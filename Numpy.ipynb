{
 "cells": [
  {
   "cell_type": "markdown",
   "metadata": {},
   "source": [
    "#Numpy"
   ]
  },
  {
   "cell_type": "code",
   "execution_count": 1,
   "metadata": {},
   "outputs": [
    {
     "name": "stdout",
     "output_type": "stream",
     "text": [
      "[1 2 5 7]\n",
      "[ 4  5  8 10]\n",
      "[12 15 24 30]\n"
     ]
    }
   ],
   "source": [
    "import numpy as np\n",
    "l=[1,2,5,7]\n",
    "a=np.array(l)\n",
    "print(a)\n",
    "a=a+3\n",
    "print(a)\n",
    "a=a*3\n",
    "print(a)"
   ]
  },
  {
   "cell_type": "code",
   "execution_count": 2,
   "metadata": {},
   "outputs": [
    {
     "name": "stdout",
     "output_type": "stream",
     "text": [
      "list time 161.7412567138672 ms\n",
      "list time 73.65989685058594 ms\n"
     ]
    }
   ],
   "source": [
    "import time\n",
    "st=time.time()\n",
    "l1=list(range(0,500000))\n",
    "l2=list(range(0,500000))\n",
    "sum=[]\n",
    "for i in range(len(l1)):\n",
    "    sum.append(l1[i]+l2[i])\n",
    "print('list time',(time.time()-st)*1000,'ms')\n",
    "st1=time.time()\n",
    "a1=np.array(l1)\n",
    "a2=np.array(l2)\n",
    "a=a1+a2\n",
    "print('list time',(time.time()-st1)*1000,'ms')\n",
    "    \n",
    "    "
   ]
  },
  {
   "cell_type": "code",
   "execution_count": 3,
   "metadata": {},
   "outputs": [
    {
     "name": "stdout",
     "output_type": "stream",
     "text": [
      "[5 6 3 9]\n",
      "1\n",
      "4\n",
      "(4,)\n",
      "int64\n",
      "[4.  5.  6.  7.5]\n",
      "float64\n",
      "['4' '5' '6.5' '7']\n",
      "<U32\n",
      "[4.  5.  6.5 7. ]\n"
     ]
    }
   ],
   "source": [
    "ar1=np.array([5,6,3,9])\n",
    "print(ar1)\n",
    "print(ar1.ndim) # gives dimension of data\n",
    "print(ar1.size) # gives no of elements in a array\n",
    "print(ar1.shape) #gives shape of data (no of rows,no ofcolumns)\n",
    "print(ar1.dtype) # gives dtattype\n",
    "\n",
    "ar2=np.array([4,5,6,7.5])\n",
    "print(ar2)\n",
    "print(ar2.dtype)\n",
    "\n",
    "ar3=np.array([4,5,6.5,'7'])\n",
    "print(ar3)\n",
    "print(ar3.dtype)\n",
    "ar4=ar3.astype('float') # for typecasting\n",
    "print(ar4)"
   ]
  },
  {
   "cell_type": "code",
   "execution_count": 4,
   "metadata": {},
   "outputs": [
    {
     "name": "stdout",
     "output_type": "stream",
     "text": [
      "[0 1 2 3 4 5 6 7 8 9]\n",
      "[ 1.          1.47368421  1.94736842  2.42105263  2.89473684  3.36842105\n",
      "  3.84210526  4.31578947  4.78947368  5.26315789  5.73684211  6.21052632\n",
      "  6.68421053  7.15789474  7.63157895  8.10526316  8.57894737  9.05263158\n",
      "  9.52631579 10.        ]\n",
      "[0.66200179 0.54757919 0.07893593 0.38757326 0.43125693 0.48959498\n",
      " 0.33667835 0.50186315 0.47100272 0.69618985]\n",
      "[0.96702984 0.54723225 0.97268436 0.71481599 0.69772882 0.2160895\n",
      " 0.97627445 0.00623026 0.25298236 0.43479153]\n",
      "2\n",
      "[7 5 4 1 8]\n"
     ]
    }
   ],
   "source": [
    "ar=np.arange(0,10) #generate elements in seq order\n",
    "print(ar)\n",
    "ar1=np.linspace(1,10,20) #create equally spaced nos within specified range\n",
    "print(ar1)\n",
    "ar2=np.random.random(10) # always returns float between 0 to 1 to generate random values\n",
    "print(ar2)\n",
    "ar3=np.random.seed(4) #added to generate fixed random numbers 4 is some logic used for random no generation\n",
    "ar3=np.random.random(10)\n",
    "print(ar3)\n",
    "ar4=np.random.randint(10) # generates only one number in the range of 10 arg used is the range in which you want\n",
    "print(ar4)\n",
    "ar5=np.random.randint(1,10,5) #generates 5 random nos in between the range of 1-10 last arg in no of element you want\n",
    "print(ar5)"
   ]
  },
  {
   "cell_type": "code",
   "execution_count": 5,
   "metadata": {},
   "outputs": [
    {
     "name": "stdout",
     "output_type": "stream",
     "text": [
      "[[5.  6.  8.5 9. ]\n",
      " [2.  3.  5.  6. ]]\n",
      "2\n",
      "(2, 4)\n",
      "[[5 6 8 9]\n",
      " [2 3 5 6]]\n",
      "[[0.39176619 0.81194775 0.61252534 0.26647378 0.64391427]\n",
      " [0.8110621  0.01902474 0.03978036 0.94500385 0.4463492 ]\n",
      " [0.44134853 0.06570954 0.17586123 0.86588276 0.84352812]]\n",
      "[[3 3 2 1 2]\n",
      " [1 8 3 7 4]\n",
      " [8 9 3 7 8]]\n"
     ]
    }
   ],
   "source": [
    "#2d array\n",
    "ar=np.array([[5,6,8.5,9],[2,3,5,6]])\n",
    "print(ar)\n",
    "print(ar.ndim)\n",
    "print(ar.shape)\n",
    "ar2=ar.astype('int')\n",
    "print(ar2)\n",
    "ar3=np.random.rand(3,5) #generate random nos in 2d arg->no of rows,columns\n",
    "print(ar3)\n",
    "ar4=np.random.randint(1,10,(3,5))  # generate random integers 3rd arg-.> used to declare no of rows and column\n",
    "print(ar4)"
   ]
  },
  {
   "cell_type": "code",
   "execution_count": 6,
   "metadata": {},
   "outputs": [
    {
     "name": "stdout",
     "output_type": "stream",
     "text": [
      "[[8 6 2 9 8]\n",
      " [9 3 8 8 8]\n",
      " [9 5 3 7 5]\n",
      " [4 1 8 6 6]]\n",
      "[[8 6 2]\n",
      " [9 3 8]]\n",
      "[[8 6 2]\n",
      " [9 3 8]\n",
      " [9 5 3]\n",
      " [4 1 8]]\n",
      "[[8 6 2 9 8]\n",
      " [9 3 8 8 8]\n",
      " [9 5 3 7 5]]\n"
     ]
    }
   ],
   "source": [
    "# indexing/slicing for 2D array\n",
    "np.random.seed(4)\n",
    "ar1=np.random.randint(1,10,(4,5))\n",
    "print(ar1)\n",
    "ar2=ar1[0:2,0:3]\n",
    "print(ar2)\n",
    "ar3=ar1[:,0:3]\n",
    "print(ar3)\n",
    "ar4=ar1[0:3,:]\n",
    "print(ar4)"
   ]
  },
  {
   "cell_type": "code",
   "execution_count": 13,
   "metadata": {},
   "outputs": [
    {
     "name": "stdout",
     "output_type": "stream",
     "text": [
      "[[8 6 2 9]\n",
      " [8 9 3 8]\n",
      " [8 8 9 5]]\n",
      "[[8 6 2 9 8 9]\n",
      " [3 8 8 8 9 5]]\n",
      "[[8 6 2 9 8 9]\n",
      " [3 8 8 8 9 5]]\n",
      "[[8 6]\n",
      " [2 9]\n",
      " [8 9]\n",
      " [3 8]\n",
      " [8 8]\n",
      " [9 5]]\n"
     ]
    }
   ],
   "source": [
    "#reshaping\n",
    "np.random.seed(4)\n",
    "ar1=np.random.randint(1,10,(3,4))\n",
    "print(ar1)\n",
    "ar2=ar1.reshape(2,6) #indexing is main -->cannot go out of bound -->it should cover all elements should not be less than that for ex if total is 12 we cannot give 3,3 it will throw error\n",
    "print(ar2)\n",
    "ar3=ar1.reshape(2,-1) # -1 is default value and it takes its value in such a way to match the total no of elements\n",
    "print(ar3)\n",
    "ar4=ar1.reshape(-1,2)\n",
    "print(ar4)"
   ]
  },
  {
   "cell_type": "code",
   "execution_count": 23,
   "metadata": {},
   "outputs": [
    {
     "name": "stdout",
     "output_type": "stream",
     "text": [
      "[10 18 28 45]\n",
      "[[ 2  3  4  5]\n",
      " [ 5  6  7  9]\n",
      " [10 20 30 40]]\n",
      "141\n",
      "141\n",
      "132.35416666666666\n",
      "11.75\n",
      "11.504528094044826\n",
      "[ 14  27 100] [17 29 41 54]\n",
      "[ 3.5   6.75 25.  ] [ 5.66666667  9.66666667 13.66666667 18.        ]\n",
      "70\n"
     ]
    }
   ],
   "source": [
    "#Basic opns\n",
    "ar=np.array([2,3,4,5])\n",
    "ar1=np.array([5,6,7,9])\n",
    "print(ar*ar1)\n",
    "ar2=np.array([[2,3,4,5],[5,6,7,9],[10,20,30,40]])\n",
    "print(ar2)\n",
    "b=ar2.sum()\n",
    "c=np.sum(ar2)\n",
    "print(b)\n",
    "print(c)\n",
    "d=np.var(ar2) #--variance\n",
    "e=np.mean(ar2)#--avg\n",
    "f=np.std(ar2)#--std deviation\n",
    "print(d)\n",
    "print(e)\n",
    "print(f)\n",
    "g=ar2.sum(axis=1) #row wise addition\n",
    "h=ar2.sum(axis=0) #column wise addition\n",
    "print(g,h)\n",
    "i=ar2.mean(axis=1) #row wise addition\n",
    "j=ar2.mean(axis=0) #column wise addition\n",
    "print(i,j)\n",
    "k=np.sum(ar2[:,1:3])\n",
    "print(k)\n"
   ]
  },
  {
   "cell_type": "code",
   "execution_count": 29,
   "metadata": {},
   "outputs": [
    {
     "name": "stdout",
     "output_type": "stream",
     "text": [
      "[[ 2  3  4  5]\n",
      " [ 5  6  7  9]\n",
      " [10 20 30 40]]\n",
      "[[ 0  0  0  0]\n",
      " [ 0  0  0  0]\n",
      " [10 20 30 40]]\n"
     ]
    }
   ],
   "source": [
    "#where condition\n",
    "ar2=np.array([[2,3,4,5],[5,6,7,9],[10,20,30,40]])\n",
    "print(ar2)\n",
    "#where condition\n",
    "ar2=np.where(ar2<10,0,ar2)\n",
    "print(ar2)"
   ]
  },
  {
   "cell_type": "code",
   "execution_count": 35,
   "metadata": {},
   "outputs": [
    {
     "name": "stdout",
     "output_type": "stream",
     "text": [
      "[[ 2  3  4  5]\n",
      " [ 5  6  7  9]\n",
      " [10 20 40 40]]\n",
      "2\n",
      "40\n",
      "40\n",
      "0\n",
      "0\n",
      "10\n"
     ]
    }
   ],
   "source": [
    "ar2=np.array([[2,3,4,5],[5,6,7,9],[10,20,40,40]])\n",
    "print(ar2)\n",
    "print(np.min(ar2))\n",
    "print(ar2.max())\n",
    "print(np.max(ar2))\n",
    "print(np.argmin(ar2))  #--position of max element\n",
    "print(ar2.argmin())\n",
    "print(np.argmax(ar2))  #--position of min element"
   ]
  }
 ],
 "metadata": {
  "kernelspec": {
   "display_name": "Python 3",
   "language": "python",
   "name": "python3"
  },
  "language_info": {
   "codemirror_mode": {
    "name": "ipython",
    "version": 3
   },
   "file_extension": ".py",
   "mimetype": "text/x-python",
   "name": "python",
   "nbconvert_exporter": "python",
   "pygments_lexer": "ipython3",
   "version": "3.7.6"
  }
 },
 "nbformat": 4,
 "nbformat_minor": 4
}
