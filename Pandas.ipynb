{
 "cells": [
  {
   "cell_type": "code",
   "execution_count": 1,
   "metadata": {},
   "outputs": [],
   "source": [
    "#data Manipulation --->Pandas\n",
    "#1D--> series\n",
    "#2D--> dataframe"
   ]
  },
  {
   "cell_type": "code",
   "execution_count": 2,
   "metadata": {},
   "outputs": [
    {
     "name": "stdout",
     "output_type": "stream",
     "text": [
      "[2 3 4 5 6]\n",
      "(5,)\n",
      "0    2\n",
      "1    3\n",
      "2    4\n",
      "3    5\n",
      "4    6\n",
      "dtype: int64\n",
      "A    2\n",
      "B    3\n",
      "C    4\n",
      "D    5\n",
      "E    6\n",
      "dtype: int64\n",
      "<class 'pandas.core.series.Series'>\n",
      "5\n",
      "5\n"
     ]
    }
   ],
   "source": [
    "import pandas as pd\n",
    "import numpy as np\n",
    "ar=np.array([2,3,4,5,6])\n",
    "print(ar)\n",
    "print(ar.shape)\n",
    "p1=pd.Series(ar)    #-- to convert a data to series it enhances the visualization aspect of data, provides op with \"label index\"\n",
    "print(p1)\n",
    "p1.index=['A','B','C','D','E']  #-- to change index labal for better understanding\n",
    "print(p1)\n",
    "print(type(p1))\n",
    "print(p1['D'])\n",
    "print(p1[3])"
   ]
  },
  {
   "cell_type": "code",
   "execution_count": 3,
   "metadata": {},
   "outputs": [
    {
     "name": "stdout",
     "output_type": "stream",
     "text": [
      "A    2\n",
      "B    3\n",
      "C    4\n",
      "D    5\n",
      "dtype: int64\n"
     ]
    }
   ],
   "source": [
    "#create series data\n",
    "s1=pd.Series([2,3,4,5],index=['A','B','C','D'])\n",
    "print(s1)"
   ]
  },
  {
   "cell_type": "code",
   "execution_count": 4,
   "metadata": {},
   "outputs": [
    {
     "name": "stdout",
     "output_type": "stream",
     "text": [
      "A    2\n",
      "B    3\n",
      "C    4\n",
      "D    5\n",
      "dtype: int64\n",
      "A    2\n",
      "B    3\n",
      "C    4\n",
      "dtype: int64\n",
      "A    2\n",
      "B    3\n",
      "dtype: int64\n"
     ]
    }
   ],
   "source": [
    "# access elements\n",
    "#iloc : acces using index\n",
    "#loc : access using label\n",
    "s1=pd.Series([2,3,4,5],index=['A','B','C','D'])\n",
    "print(s1)\n",
    "s2=s1.loc['A':'C'] # last value is inclusive\n",
    "print(s2)\n",
    "s3=s1.iloc[0:2] # last value is exclusive\n",
    "print(s3)"
   ]
  },
  {
   "cell_type": "code",
   "execution_count": 5,
   "metadata": {},
   "outputs": [
    {
     "name": "stdout",
     "output_type": "stream",
     "text": [
      "0    2\n",
      "1    3\n",
      "2    4\n",
      "3    5\n",
      "dtype: int64\n",
      "0    2\n",
      "1    3\n",
      "2    4\n",
      "dtype: int64\n",
      "0    2\n",
      "1    3\n",
      "dtype: int64\n"
     ]
    }
   ],
   "source": [
    "# example for iloc and loc using numbers as label index\n",
    "s1=pd.Series([2,3,4,5])\n",
    "print(s1)\n",
    "s2=s1.loc[0:2] # last value is inclusive\n",
    "print(s2)\n",
    "s3=s1.iloc[0:2] # last value is exclusive\n",
    "print(s3)"
   ]
  },
  {
   "cell_type": "code",
   "execution_count": 6,
   "metadata": {},
   "outputs": [
    {
     "name": "stdout",
     "output_type": "stream",
     "text": [
      "  Name  Age Country\n",
      "0  koh   20      US\n",
      "1   se   30     IND\n",
      "2  kor   40   Japan\n"
     ]
    }
   ],
   "source": [
    "#creating dataframe using dictionary\n",
    "data=pd.DataFrame({'Name':['koh','se','kor'],'Age':[20,30,40],'Country':['US','IND','Japan']})\n",
    "print(data)"
   ]
  },
  {
   "cell_type": "code",
   "execution_count": 7,
   "metadata": {},
   "outputs": [
    {
     "name": "stdout",
     "output_type": "stream",
     "text": [
      "  Name  Age Country\n",
      "0  koh   20      US\n",
      "1   se   30     IND\n",
      "2  kor   40   Japan\n",
      "0    koh\n",
      "1     se\n",
      "2    kor\n",
      "Name: Name, dtype: object\n",
      "<class 'pandas.core.series.Series'>\n",
      "  Name Country\n",
      "0  koh      US\n",
      "1   se     IND\n",
      "2  kor   Japan\n",
      "<class 'pandas.core.frame.DataFrame'>\n"
     ]
    }
   ],
   "source": [
    "#access data\n",
    "data=pd.DataFrame({'Name':['koh','se','kor'],'Age':[20,30,40],'Country':['US','IND','Japan']})\n",
    "print(data)\n",
    "y=data['Name'] #-- access single column[]\n",
    "print(y)\n",
    "print(type(y))\n",
    "z= data[['Name','Country']]  #--- access multiple columns use [[]]\n",
    "print(z) \n",
    "print(type(z))"
   ]
  },
  {
   "cell_type": "code",
   "execution_count": 8,
   "metadata": {},
   "outputs": [
    {
     "name": "stdout",
     "output_type": "stream",
     "text": [
      "  Name  Age Country\n",
      "0  koh   20      US\n",
      "1   se   30     IND\n",
      "2  kor   40   Japan\n",
      "  Name Country\n",
      "0  koh      US\n",
      "1   se     IND\n",
      "  Name Country\n",
      "0  koh      US\n",
      "2  kor   Japan\n"
     ]
    }
   ],
   "source": [
    "#loc method\n",
    "data=pd.DataFrame({'Name':['koh','se','kor'],'Age':[20,30,40],'Country':['US','IND','Japan']})\n",
    "print(data)\n",
    "y=data.loc[0:1,['Name','Country']]\n",
    "print(y)\n",
    "z=data.loc[[0,2],['Name','Country']]\n",
    "print(z)"
   ]
  },
  {
   "cell_type": "code",
   "execution_count": 11,
   "metadata": {},
   "outputs": [
    {
     "name": "stdout",
     "output_type": "stream",
     "text": [
      "  Name  Age Country\n",
      "0  koh   20      US\n",
      "1   se   30     IND\n",
      "2  kor   40   Japan\n",
      "  Name  Age Country\n",
      "0  koh   20      US\n",
      "1   se   30     IND\n",
      "2  kor   40   Japan\n",
      "  Name Country\n",
      "0  koh      US\n",
      "1   se     IND\n",
      "2  kor   Japan\n"
     ]
    }
   ],
   "source": [
    "# iloc\n",
    "data=pd.DataFrame({'Name':['koh','se','kor'],'Age':[20,30,40],'Country':['US','IND','Japan']})\n",
    "print(data)\n",
    "y = data.iloc[0:3,:]\n",
    "print(y)\n",
    "z= data.iloc[0:3,[0,2]]\n",
    "print(z)"
   ]
  },
  {
   "cell_type": "code",
   "execution_count": 16,
   "metadata": {},
   "outputs": [
    {
     "name": "stdout",
     "output_type": "stream",
     "text": [
      "    Name  Age Country\n",
      "0    koh   20      US\n",
      "1     se   30     IND\n",
      "2    kor   40   Japan\n",
      "3  Raina   50     Ind\n",
      "4    MSD   60     ind\n",
      "    Name  Age Country Gender\n",
      "0    koh   20      US      M\n",
      "1     se   30     IND      F\n",
      "2    kor   40   Japan      M\n",
      "3  Raina   50     Ind      M\n",
      "4    MSD   60     ind      M\n",
      "    Name  Age Country Gender Martial Status\n",
      "0    koh   20      US      M              Y\n",
      "1     se   30     IND      F              N\n",
      "2    kor   40   Japan      M              Y\n",
      "3  Raina   50     Ind      M              N\n",
      "4    MSD   60     ind      M              N\n",
      "    Name  Age Gender\n",
      "2    kor   40      M\n",
      "3  Raina   50      M\n",
      "4    MSD   60      M\n",
      "    Name  Age Gender\n",
      "2    kor   40      M\n",
      "3  Raina   50      M\n",
      "4    MSD   60      M\n"
     ]
    }
   ],
   "source": [
    "#add a column\n",
    "data=pd.DataFrame({'Name':['koh','se','kor','Raina','MSD'],'Age':[20,30,40,50,60],'Country':['US','IND','Japan','Ind','ind']})\n",
    "print(data)\n",
    "data['Gender']=['M','F','M','M','M'] #-- to add a column but we can add only one column at a time\n",
    "print(data)\n",
    "data['Martial Status']=['Y','N','Y','N','N'] # this is series data so we add it to dataframe\n",
    "print(data)\n",
    "x=data.loc[2:4,['Name','Age','Gender']]\n",
    "print(x)\n",
    "y=data.iloc[2:5,[0,1,3]]\n",
    "print(y)"
   ]
  }
 ],
 "metadata": {
  "kernelspec": {
   "display_name": "Python 3",
   "language": "python",
   "name": "python3"
  },
  "language_info": {
   "codemirror_mode": {
    "name": "ipython",
    "version": 3
   },
   "file_extension": ".py",
   "mimetype": "text/x-python",
   "name": "python",
   "nbconvert_exporter": "python",
   "pygments_lexer": "ipython3",
   "version": "3.7.6"
  }
 },
 "nbformat": 4,
 "nbformat_minor": 4
}
